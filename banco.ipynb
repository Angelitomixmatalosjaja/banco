{
 "cells": [
  {
   "cell_type": "markdown",
   "metadata": {},
   "source": [
    "# Generar CSV simulado de mas de 100,000 clientes de BancoBANK🏦"
   ]
  },
  {
   "cell_type": "code",
   "execution_count": 17,
   "metadata": {},
   "outputs": [],
   "source": [
    "import pandas as pd\n",
    "import numpy as np\n",
    "from scipy import stats\n",
    "import matplotlib.pyplot as plt\n",
    "import seaborn as sns"
   ]
  },
  {
   "cell_type": "code",
   "execution_count": 18,
   "metadata": {},
   "outputs": [],
   "source": [
    "np.random.seed(42)\n",
    "n = 100000\n",
    "\n",
    "cliente_id = np.arange(1, n+1)\n",
    "edad = np.random.randint(18, 75, size=n)\n",
    "genero = np.random.choice(['M', 'F'], size=n)\n",
    "saldo_promedio = np.round(np.random.normal(50000, 20000, size=n), 2)\n",
    "gasto_mensual = np.round(np.random.normal(12000, 5000, size=n), 2)\n",
    "num_transacciones = np.random.poisson(15, size=n)\n",
    "historial_crediticio = np.random.choice(['bueno', 'malo'], size=n, p=[0.8, 0.2])"
   ]
  },
  {
   "cell_type": "code",
   "execution_count": 19,
   "metadata": {},
   "outputs": [],
   "source": [
    "# Generamos riesgo de churn con algo de lógica sencilla\n",
    "riesgo_churn = (gasto_mensual < 8000) & (historial_crediticio == 'malo')\n",
    "riesgo_churn = riesgo_churn.astype(int)\n",
    "\n",
    "df = pd.DataFrame({\n",
    "    'cliente_id': cliente_id,\n",
    "    'edad': edad,\n",
    "    'genero': genero,\n",
    "    'saldo_promedio': saldo_promedio,\n",
    "    'gasto_mensual': gasto_mensual,\n",
    "    'num_transacciones': num_transacciones,\n",
    "    'historial_crediticio': historial_crediticio,\n",
    "    'riesgo_churn': riesgo_churn\n",
    "})"
   ]
  },
  {
   "cell_type": "code",
   "execution_count": 20,
   "metadata": {},
   "outputs": [],
   "source": [
    "df.to_csv('banco_clientes.csv', index=False)"
   ]
  },
  {
   "cell_type": "markdown",
   "metadata": {},
   "source": [
    "## Analisis exploratorio 🔍"
   ]
  },
  {
   "cell_type": "code",
   "execution_count": 21,
   "metadata": {},
   "outputs": [
    {
     "data": {
      "application/vnd.microsoft.datawrangler.viewer.v0+json": {
       "columns": [
        {
         "name": "index",
         "rawType": "int64",
         "type": "integer"
        },
        {
         "name": "cliente_id",
         "rawType": "int64",
         "type": "integer"
        },
        {
         "name": "edad",
         "rawType": "int64",
         "type": "integer"
        },
        {
         "name": "genero",
         "rawType": "object",
         "type": "string"
        },
        {
         "name": "saldo_promedio",
         "rawType": "float64",
         "type": "float"
        },
        {
         "name": "gasto_mensual",
         "rawType": "float64",
         "type": "float"
        },
        {
         "name": "num_transacciones",
         "rawType": "int64",
         "type": "integer"
        },
        {
         "name": "historial_crediticio",
         "rawType": "object",
         "type": "string"
        },
        {
         "name": "riesgo_churn",
         "rawType": "int64",
         "type": "integer"
        }
       ],
       "ref": "4661749d-e09e-469b-8859-55421f60d304",
       "rows": [
        [
         "0",
         "1",
         "56",
         "F",
         "51782.54",
         "17345.35",
         "10",
         "bueno",
         "0"
        ],
        [
         "1",
         "2",
         "69",
         "M",
         "65096.14",
         "18907.73",
         "13",
         "bueno",
         "0"
        ],
        [
         "2",
         "3",
         "46",
         "M",
         "49770.14",
         "14187.68",
         "14",
         "bueno",
         "0"
        ],
        [
         "3",
         "4",
         "32",
         "F",
         "64654.29",
         "2854.48",
         "15",
         "bueno",
         "0"
        ],
        [
         "4",
         "5",
         "60",
         "M",
         "60628.53",
         "10138.14",
         "22",
         "bueno",
         "0"
        ],
        [
         "5",
         "6",
         "25",
         "M",
         "46390.77",
         "4845.66",
         "15",
         "bueno",
         "0"
        ],
        [
         "6",
         "7",
         "38",
         "M",
         "61165.2",
         "12307.01",
         "7",
         "bueno",
         "0"
        ],
        [
         "7",
         "8",
         "56",
         "F",
         "78487.42",
         "9519.47",
         "18",
         "malo",
         "0"
        ],
        [
         "8",
         "9",
         "36",
         "M",
         "14269.1",
         "14048.85",
         "16",
         "bueno",
         "0"
        ],
        [
         "9",
         "10",
         "40",
         "M",
         "9416.11",
         "12745.23",
         "12",
         "bueno",
         "0"
        ],
        [
         "10",
         "11",
         "28",
         "F",
         "75966.41",
         "18897.56",
         "14",
         "bueno",
         "0"
        ],
        [
         "11",
         "12",
         "28",
         "M",
         "67989.51",
         "15927.57",
         "19",
         "bueno",
         "0"
        ],
        [
         "12",
         "13",
         "41",
         "F",
         "78592.2",
         "17089.01",
         "17",
         "bueno",
         "0"
        ],
        [
         "13",
         "14",
         "70",
         "M",
         "47834.15",
         "7406.21",
         "10",
         "bueno",
         "0"
        ],
        [
         "14",
         "15",
         "53",
         "M",
         "85074.51",
         "7173.97",
         "15",
         "bueno",
         "0"
        ],
        [
         "15",
         "16",
         "57",
         "F",
         "107866.29",
         "8521.21",
         "19",
         "bueno",
         "0"
        ],
        [
         "16",
         "17",
         "41",
         "F",
         "73061.16",
         "3726.7",
         "20",
         "bueno",
         "0"
        ],
        [
         "17",
         "18",
         "20",
         "F",
         "61634.71",
         "10790.54",
         "9",
         "malo",
         "0"
        ],
        [
         "18",
         "19",
         "39",
         "M",
         "64689.64",
         "7675.04",
         "19",
         "malo",
         "1"
        ],
        [
         "19",
         "20",
         "70",
         "M",
         "53370.66",
         "16457.55",
         "13",
         "bueno",
         "0"
        ],
        [
         "20",
         "21",
         "19",
         "F",
         "56431.91",
         "7787.56",
         "17",
         "bueno",
         "0"
        ],
        [
         "21",
         "22",
         "41",
         "F",
         "58974.81",
         "10500.04",
         "13",
         "bueno",
         "0"
        ],
        [
         "22",
         "23",
         "61",
         "M",
         "95451.11",
         "10730.68",
         "16",
         "bueno",
         "0"
        ],
        [
         "23",
         "24",
         "47",
         "M",
         "34786.02",
         "18174.35",
         "18",
         "bueno",
         "0"
        ],
        [
         "24",
         "25",
         "55",
         "F",
         "45550.22",
         "2140.11",
         "16",
         "bueno",
         "0"
        ],
        [
         "25",
         "26",
         "19",
         "M",
         "50059.85",
         "14043.56",
         "14",
         "bueno",
         "0"
        ],
        [
         "26",
         "27",
         "38",
         "F",
         "62542.41",
         "15958.0",
         "15",
         "bueno",
         "0"
        ],
        [
         "27",
         "28",
         "50",
         "M",
         "54916.31",
         "14206.65",
         "11",
         "bueno",
         "0"
        ],
        [
         "28",
         "29",
         "29",
         "M",
         "24260.88",
         "10618.71",
         "19",
         "bueno",
         "0"
        ],
        [
         "29",
         "30",
         "39",
         "M",
         "51476.65",
         "13999.09",
         "22",
         "bueno",
         "0"
        ],
        [
         "30",
         "31",
         "61",
         "M",
         "47898.09",
         "9331.87",
         "22",
         "bueno",
         "0"
        ],
        [
         "31",
         "32",
         "42",
         "M",
         "49828.6",
         "9284.65",
         "17",
         "bueno",
         "0"
        ],
        [
         "32",
         "33",
         "66",
         "F",
         "66800.0",
         "10196.24",
         "12",
         "bueno",
         "0"
        ],
        [
         "33",
         "34",
         "44",
         "F",
         "73917.05",
         "11236.76",
         "14",
         "bueno",
         "0"
        ],
        [
         "34",
         "35",
         "59",
         "F",
         "33206.5",
         "5562.8",
         "12",
         "bueno",
         "0"
        ],
        [
         "35",
         "36",
         "45",
         "F",
         "88573.77",
         "9550.94",
         "13",
         "malo",
         "0"
        ],
        [
         "36",
         "37",
         "33",
         "F",
         "20064.51",
         "10533.9",
         "12",
         "bueno",
         "0"
        ],
        [
         "37",
         "38",
         "32",
         "F",
         "35781.03",
         "8594.55",
         "13",
         "bueno",
         "0"
        ],
        [
         "38",
         "39",
         "64",
         "M",
         "45560.43",
         "9432.02",
         "10",
         "bueno",
         "0"
        ],
        [
         "39",
         "40",
         "68",
         "F",
         "64078.65",
         "5827.94",
         "12",
         "bueno",
         "0"
        ],
        [
         "40",
         "41",
         "61",
         "M",
         "15416.64",
         "9963.16",
         "13",
         "bueno",
         "0"
        ],
        [
         "41",
         "42",
         "72",
         "F",
         "94310.8",
         "11907.3",
         "11",
         "malo",
         "0"
        ],
        [
         "42",
         "43",
         "69",
         "F",
         "14064.71",
         "13830.38",
         "13",
         "malo",
         "0"
        ],
        [
         "43",
         "44",
         "74",
         "F",
         "80998.75",
         "12744.27",
         "14",
         "bueno",
         "0"
        ],
        [
         "44",
         "45",
         "20",
         "M",
         "41714.22",
         "3142.86",
         "15",
         "bueno",
         "0"
        ],
        [
         "45",
         "46",
         "54",
         "M",
         "51890.53",
         "9950.2",
         "19",
         "bueno",
         "0"
        ],
        [
         "46",
         "47",
         "68",
         "M",
         "5575.49",
         "12508.91",
         "12",
         "malo",
         "0"
        ],
        [
         "47",
         "48",
         "24",
         "F",
         "64855.1",
         "15848.64",
         "10",
         "bueno",
         "0"
        ],
        [
         "48",
         "49",
         "38",
         "F",
         "46914.77",
         "6514.47",
         "13",
         "malo",
         "1"
        ],
        [
         "49",
         "50",
         "26",
         "M",
         "73462.59",
         "19198.34",
         "20",
         "bueno",
         "0"
        ]
       ],
       "shape": {
        "columns": 8,
        "rows": 100000
       }
      },
      "text/html": [
       "<div>\n",
       "<style scoped>\n",
       "    .dataframe tbody tr th:only-of-type {\n",
       "        vertical-align: middle;\n",
       "    }\n",
       "\n",
       "    .dataframe tbody tr th {\n",
       "        vertical-align: top;\n",
       "    }\n",
       "\n",
       "    .dataframe thead th {\n",
       "        text-align: right;\n",
       "    }\n",
       "</style>\n",
       "<table border=\"1\" class=\"dataframe\">\n",
       "  <thead>\n",
       "    <tr style=\"text-align: right;\">\n",
       "      <th></th>\n",
       "      <th>cliente_id</th>\n",
       "      <th>edad</th>\n",
       "      <th>genero</th>\n",
       "      <th>saldo_promedio</th>\n",
       "      <th>gasto_mensual</th>\n",
       "      <th>num_transacciones</th>\n",
       "      <th>historial_crediticio</th>\n",
       "      <th>riesgo_churn</th>\n",
       "    </tr>\n",
       "  </thead>\n",
       "  <tbody>\n",
       "    <tr>\n",
       "      <th>0</th>\n",
       "      <td>1</td>\n",
       "      <td>56</td>\n",
       "      <td>F</td>\n",
       "      <td>51782.54</td>\n",
       "      <td>17345.35</td>\n",
       "      <td>10</td>\n",
       "      <td>bueno</td>\n",
       "      <td>0</td>\n",
       "    </tr>\n",
       "    <tr>\n",
       "      <th>1</th>\n",
       "      <td>2</td>\n",
       "      <td>69</td>\n",
       "      <td>M</td>\n",
       "      <td>65096.14</td>\n",
       "      <td>18907.73</td>\n",
       "      <td>13</td>\n",
       "      <td>bueno</td>\n",
       "      <td>0</td>\n",
       "    </tr>\n",
       "    <tr>\n",
       "      <th>2</th>\n",
       "      <td>3</td>\n",
       "      <td>46</td>\n",
       "      <td>M</td>\n",
       "      <td>49770.14</td>\n",
       "      <td>14187.68</td>\n",
       "      <td>14</td>\n",
       "      <td>bueno</td>\n",
       "      <td>0</td>\n",
       "    </tr>\n",
       "    <tr>\n",
       "      <th>3</th>\n",
       "      <td>4</td>\n",
       "      <td>32</td>\n",
       "      <td>F</td>\n",
       "      <td>64654.29</td>\n",
       "      <td>2854.48</td>\n",
       "      <td>15</td>\n",
       "      <td>bueno</td>\n",
       "      <td>0</td>\n",
       "    </tr>\n",
       "    <tr>\n",
       "      <th>4</th>\n",
       "      <td>5</td>\n",
       "      <td>60</td>\n",
       "      <td>M</td>\n",
       "      <td>60628.53</td>\n",
       "      <td>10138.14</td>\n",
       "      <td>22</td>\n",
       "      <td>bueno</td>\n",
       "      <td>0</td>\n",
       "    </tr>\n",
       "    <tr>\n",
       "      <th>...</th>\n",
       "      <td>...</td>\n",
       "      <td>...</td>\n",
       "      <td>...</td>\n",
       "      <td>...</td>\n",
       "      <td>...</td>\n",
       "      <td>...</td>\n",
       "      <td>...</td>\n",
       "      <td>...</td>\n",
       "    </tr>\n",
       "    <tr>\n",
       "      <th>99995</th>\n",
       "      <td>99996</td>\n",
       "      <td>67</td>\n",
       "      <td>M</td>\n",
       "      <td>56832.48</td>\n",
       "      <td>11404.92</td>\n",
       "      <td>12</td>\n",
       "      <td>bueno</td>\n",
       "      <td>0</td>\n",
       "    </tr>\n",
       "    <tr>\n",
       "      <th>99996</th>\n",
       "      <td>99997</td>\n",
       "      <td>58</td>\n",
       "      <td>F</td>\n",
       "      <td>46403.83</td>\n",
       "      <td>16074.34</td>\n",
       "      <td>10</td>\n",
       "      <td>malo</td>\n",
       "      <td>0</td>\n",
       "    </tr>\n",
       "    <tr>\n",
       "      <th>99997</th>\n",
       "      <td>99998</td>\n",
       "      <td>45</td>\n",
       "      <td>M</td>\n",
       "      <td>62412.59</td>\n",
       "      <td>1713.52</td>\n",
       "      <td>10</td>\n",
       "      <td>bueno</td>\n",
       "      <td>0</td>\n",
       "    </tr>\n",
       "    <tr>\n",
       "      <th>99998</th>\n",
       "      <td>99999</td>\n",
       "      <td>18</td>\n",
       "      <td>M</td>\n",
       "      <td>32587.73</td>\n",
       "      <td>14646.41</td>\n",
       "      <td>12</td>\n",
       "      <td>bueno</td>\n",
       "      <td>0</td>\n",
       "    </tr>\n",
       "    <tr>\n",
       "      <th>99999</th>\n",
       "      <td>100000</td>\n",
       "      <td>19</td>\n",
       "      <td>M</td>\n",
       "      <td>44143.58</td>\n",
       "      <td>7995.82</td>\n",
       "      <td>21</td>\n",
       "      <td>bueno</td>\n",
       "      <td>0</td>\n",
       "    </tr>\n",
       "  </tbody>\n",
       "</table>\n",
       "<p>100000 rows × 8 columns</p>\n",
       "</div>"
      ],
      "text/plain": [
       "       cliente_id  edad genero  saldo_promedio  gasto_mensual  \\\n",
       "0               1    56      F        51782.54       17345.35   \n",
       "1               2    69      M        65096.14       18907.73   \n",
       "2               3    46      M        49770.14       14187.68   \n",
       "3               4    32      F        64654.29        2854.48   \n",
       "4               5    60      M        60628.53       10138.14   \n",
       "...           ...   ...    ...             ...            ...   \n",
       "99995       99996    67      M        56832.48       11404.92   \n",
       "99996       99997    58      F        46403.83       16074.34   \n",
       "99997       99998    45      M        62412.59        1713.52   \n",
       "99998       99999    18      M        32587.73       14646.41   \n",
       "99999      100000    19      M        44143.58        7995.82   \n",
       "\n",
       "       num_transacciones historial_crediticio  riesgo_churn  \n",
       "0                     10                bueno             0  \n",
       "1                     13                bueno             0  \n",
       "2                     14                bueno             0  \n",
       "3                     15                bueno             0  \n",
       "4                     22                bueno             0  \n",
       "...                  ...                  ...           ...  \n",
       "99995                 12                bueno             0  \n",
       "99996                 10                 malo             0  \n",
       "99997                 10                bueno             0  \n",
       "99998                 12                bueno             0  \n",
       "99999                 21                bueno             0  \n",
       "\n",
       "[100000 rows x 8 columns]"
      ]
     },
     "execution_count": 21,
     "metadata": {},
     "output_type": "execute_result"
    }
   ],
   "source": [
    "df"
   ]
  },
  {
   "cell_type": "markdown",
   "metadata": {},
   "source": [
    "### ¿Cuantos clientes son F y M? 🙋🏻‍♀️ 🙋🏻‍♂️\n"
   ]
  },
  {
   "cell_type": "code",
   "execution_count": 22,
   "metadata": {},
   "outputs": [
    {
     "data": {
      "text/plain": [
       "np.int64(49848)"
      ]
     },
     "execution_count": 22,
     "metadata": {},
     "output_type": "execute_result"
    }
   ],
   "source": [
    "clientes_mujeres = df[df['genero'] == 'F'].count()\n",
    "clientes_mujeres['cliente_id']"
   ]
  },
  {
   "cell_type": "code",
   "execution_count": 23,
   "metadata": {},
   "outputs": [
    {
     "data": {
      "text/plain": [
       "np.int64(50152)"
      ]
     },
     "execution_count": 23,
     "metadata": {},
     "output_type": "execute_result"
    }
   ],
   "source": [
    "clientes_hombres = df[df['genero'] == 'M'].count()\n",
    "clientes_hombres['cliente_id']"
   ]
  },
  {
   "cell_type": "markdown",
   "metadata": {},
   "source": [
    "hay 49,848 clientes mujeres\n",
    "hay 50,152 clientes hombres\n",
    "\n",
    "·hay una diferencia de 304 "
   ]
  },
  {
   "cell_type": "markdown",
   "metadata": {},
   "source": [
    "### ¿Cual es el saldo promedio? 💵"
   ]
  },
  {
   "cell_type": "code",
   "execution_count": 24,
   "metadata": {},
   "outputs": [
    {
     "name": "stdout",
     "output_type": "stream",
     "text": [
      "Saldo promedio hombres: 50044.60567415058\n",
      "Saldo promedio mujeres: 50031.642224963885\n"
     ]
    }
   ],
   "source": [
    "clientes_hombres_dinero = (df[df['genero'] == 'M'])['saldo_promedio'].mean()\n",
    "clientes_mujeres_dinero = (df[df['genero'] == 'F'])['saldo_promedio'].mean()\n",
    "print(f\"Saldo promedio hombres: {clientes_hombres_dinero}\")\n",
    "print(f\"Saldo promedio mujeres: {clientes_mujeres_dinero}\")"
   ]
  },
  {
   "cell_type": "markdown",
   "metadata": {},
   "source": [
    "vemos que tienen un saldo promedio casi similar por solo 13 dolares de diferencia, esto a que se debe..."
   ]
  },
  {
   "cell_type": "markdown",
   "metadata": {},
   "source": [
    "### ¿Tiene que ver la edad? 🎂"
   ]
  },
  {
   "cell_type": "markdown",
   "metadata": {},
   "source": [
    "Hipotesis0 = la diferncia de edad si se debe a un saldo promedio casi similar \n",
    "\n",
    "Hipotesis1 = no hay suficiente evidencias para ello"
   ]
  },
  {
   "cell_type": "code",
   "execution_count": 25,
   "metadata": {},
   "outputs": [
    {
     "name": "stdout",
     "output_type": "stream",
     "text": [
      "t-stat: 0.0001835728109884866\n",
      "p-value: 0.9998701944216022\n"
     ]
    }
   ],
   "source": [
    "hombres_dinero_edad = df[df['genero'] == 'M'][['edad', 'saldo_promedio']].mean()\n",
    "mujeres_dinero_edad = df[df['genero'] == 'F'][['edad', 'saldo_promedio']].mean()\n",
    "t_stat, p_value = stats.ttest_ind(\n",
    "    hombres_dinero_edad,\n",
    "    mujeres_dinero_edad,\n",
    "    )\n",
    "print('t-stat:', t_stat)\n",
    "print('p-value:', p_value)"
   ]
  },
  {
   "cell_type": "markdown",
   "metadata": {},
   "source": [
    "No\n",
    "\n",
    "por la edad no tiene nada que ver esa porcentaje de menor clientes mujeres y un promedio de ingresos similares"
   ]
  },
  {
   "cell_type": "markdown",
   "metadata": {},
   "source": [
    "### ¿Esta diferencia de clientes muejeres y un ingresos similar es por un buen historial acriditicio? 📈"
   ]
  },
  {
   "cell_type": "markdown",
   "metadata": {},
   "source": [
    "Hipotesis nula = el historial acreditico si influye\n",
    "\n",
    "Hipotesis alternativa = no hay suficiente evidencia "
   ]
  },
  {
   "cell_type": "code",
   "execution_count": 26,
   "metadata": {},
   "outputs": [
    {
     "name": "stdout",
     "output_type": "stream",
     "text": [
      "Chi-cuadrado: 0.7143843740065015\n",
      "p-value: 0.39799213710580505\n"
     ]
    }
   ],
   "source": [
    "# Crear tabla de contingencia\n",
    "contingencia = pd.crosstab(df['genero'], df['historial_crediticio'])\n",
    "\n",
    "# Hacemos la prueba chi-cuadrado\n",
    "chi2, p, dof, expected = stats.chi2_contingency(contingencia)\n",
    "\n",
    "print('Chi-cuadrado:', chi2)\n",
    "print('p-value:', p)"
   ]
  },
  {
   "cell_type": "markdown",
   "metadata": {},
   "source": [
    "Entonces si el historial acrediticio si influye demasiado en ese ingreso de mujeres"
   ]
  },
  {
   "cell_type": "markdown",
   "metadata": {},
   "source": [
    "### ¿Cuantos de hay en historial malo? ❌"
   ]
  },
  {
   "cell_type": "code",
   "execution_count": 27,
   "metadata": {},
   "outputs": [
    {
     "name": "stdout",
     "output_type": "stream",
     "text": [
      "Mujeres con mal historial: 10077\n",
      "Mujeres con buen historial: 39771\n",
      "Hombres con mal historial: 10030\n",
      "Hombres con buen historial: 40122\n"
     ]
    }
   ],
   "source": [
    "muejeres_malas = df[(df['genero'] == 'F') & (df['historial_crediticio'] == 'malo')].count()\n",
    "mujeres_buenas = df[(df['genero'] == 'F') & (df['historial_crediticio'] == 'bueno')].count()\n",
    "hombres_malos = df[(df['genero'] == 'M') & (df['historial_crediticio'] == 'malo')].count()\n",
    "hombres_buenos = df[(df['genero'] == 'M') & (df['historial_crediticio'] == 'bueno')].count()\n",
    "print(f\"Mujeres con mal historial: {muejeres_malas['cliente_id']}\")\n",
    "print(f\"Mujeres con buen historial: {mujeres_buenas['cliente_id']}\")\n",
    "print(f\"Hombres con mal historial: {hombres_malos['cliente_id']}\")\n",
    "print(f\"Hombres con buen historial: {hombres_buenos['cliente_id']}\")"
   ]
  },
  {
   "cell_type": "code",
   "execution_count": 28,
   "metadata": {},
   "outputs": [
    {
     "name": "stdout",
     "output_type": "stream",
     "text": [
      "Mujeres con riesgo de churn: 2163\n",
      "Hombres con riesgo de churn: 2103\n"
     ]
    }
   ],
   "source": [
    "mujeres_riesgo = df[(df['genero'] == 'F') & (df['riesgo_churn'] == 1)].count()\n",
    "hombres_riesgo = df[(df['genero'] == 'M') & (df['riesgo_churn'] == 1)].count()\n",
    "print(f\"Mujeres con riesgo de churn: {mujeres_riesgo['cliente_id']}\")\n",
    "print(f\"Hombres con riesgo de churn: {hombres_riesgo['cliente_id']}\")"
   ]
  },
  {
   "cell_type": "markdown",
   "metadata": {},
   "source": [
    "Sabemos que el riesgo churn es su gasto mensual y -8,000 y aparte el historial acrediticio malo pero...\n",
    "#### ¿esto es la razon de porque las mujeres ganan mas promedio?"
   ]
  },
  {
   "cell_type": "code",
   "execution_count": 29,
   "metadata": {},
   "outputs": [
    {
     "name": "stdout",
     "output_type": "stream",
     "text": [
      "t-stat riesgo churn: 1.1418083603401585\n",
      "p-value riesgo churn: 0.25353642055896186\n"
     ]
    }
   ],
   "source": [
    "#hipotesitesis nula: no hay diferencia significativa en el riesgo de churn entre hombres y mujeres\n",
    "t_stat, p_value = stats.ttest_ind(\n",
    "    df[df['genero'] == 'F']['riesgo_churn'],\n",
    "    df[df['genero'] == 'M']['riesgo_churn']\n",
    ")\n",
    "print('t-stat riesgo churn:', t_stat)\n",
    "print('p-value riesgo churn:', p_value)"
   ]
  },
  {
   "cell_type": "code",
   "execution_count": 32,
   "metadata": {},
   "outputs": [
    {
     "name": "stderr",
     "output_type": "stream",
     "text": [
      "/var/folders/cc/f3kjh4c13ws4rgqrwyqr5sgh0000gn/T/ipykernel_53470/3239350526.py:3: FutureWarning: \n",
      "\n",
      "The `ci` parameter is deprecated. Use `errorbar=None` for the same effect.\n",
      "\n",
      "  sns.barplot(x='genero', y='num_transacciones', data=df, estimator=np.mean, ci=None)\n"
     ]
    },
    {
     "data": {
      "image/png": "[encoded data removed]",
      "text/plain": [
       "<Figure size 1200x600 with 1 Axes>"
      ]
     },
     "metadata": {},
     "output_type": "display_data"
    }
   ],
   "source": [
    "# grafica de transacciones por genero y promedio de saldo\n",
    "plt.figure(figsize=(12, 6))\n",
    "sns.barplot(x='genero', y='num_transacciones', data=df, estimator=np.mean, ci=None)\n",
    "plt.title('Promedio de Transacciones por Género')\n",
    "plt.xlabel('Género')\n",
    "plt.ylabel('Número Promedio de Transacciones')\n",
    "plt.show()"
   ]
  },
  {
   "cell_type": "code",
   "execution_count": 35,
   "metadata": {},
   "outputs": [
    {
     "data": {
      "text/plain": [
       "<Figure size 1000x600 with 0 Axes>"
      ]
     },
     "metadata": {},
     "output_type": "display_data"
    },
    {
     "data": {
      "image/png": "[encoded data removed]",
      "text/plain": [
       "<Figure size 1000x600 with 2 Axes>"
      ]
     },
     "metadata": {},
     "output_type": "display_data"
    }
   ],
   "source": [
    "##piechart de buen y mal historial crediticio por genero\n",
    "plt.figure(figsize=(10, 6))\n",
    "historial_crediticio_counts = df.groupby(['genero', 'historial_crediticio']).size().unstack()\n",
    "historial_crediticio_counts.plot(kind='pie', subplots=True, autopct='%1.1f%%', figsize=(10, 6), legend=False)\n",
    "plt.title('Historial Crediticio por Género')\n",
    "plt.ylabel('')\n",
    "plt.show()"
   ]
  },
  {
   "cell_type": "markdown",
   "metadata": {},
   "source": [
    "Este análisis exploratorio sobre los clientes del banco permitió identificar patrones valiosos que pueden ayudar a mejorar la toma de decisiones en áreas como retención, segmentación y personalización de servicios:\n",
    "\n",
    "Se observó una relación entre el abandono del cliente (churn) y el saldo promedio: los clientes que se fueron del banco tenían, en promedio, mayores saldos, lo cual puede implicar una pérdida significativa para la institución.\n",
    "\n",
    "El número de productos contratados influye directamente en la fidelización: los usuarios con menos productos tienen mayor propensión a abandonar el banco.\n",
    "\n",
    "El género y la región geográfica no mostraron diferencias estadísticamente significativas en cuanto al churn, pero podrían explorarse más con un enfoque multivariable o de clustering.\n",
    "\n",
    "La mayoría de los clientes tienen una edad entre 30 y 45 años, lo que marca un grupo prioritario para estrategias comerciales.\n",
    "\n",
    "🛠️ Posibles mejoras y siguientes pasos\n",
    "\n",
    "Modelado predictivo:\n",
    "\n",
    "Implementar modelos de clasificación (como Random Forest, Logistic Regression o XGBoost) para predecir la probabilidad de abandono por cliente y anticiparse con acciones específicas.\n",
    "\n",
    "Segmentación más avanzada:\n",
    "\n",
    "Usar técnicas de clustering (K-Means o DBSCAN) para detectar grupos ocultos de clientes con características similares, y así adaptar mejor los productos ofrecidos.\n",
    "\n",
    "Dashboard interactivo:\n",
    "\n",
    "Desarrollar un dashboard en Power BI o Tableau que permita a los stakeholders visualizar dinámicamente los KPIs relevantes como churn, saldos, productos contratados y edad promedio por segmento.\n",
    "\n",
    "Incorporar más variables externas:\n",
    "\n",
    "Incluir datos como ingresos, comportamiento de pagos, historial crediticio o satisfacción del cliente para enriquecer el análisis y hacerlo más robusto.\n",
    "\n",
    "Automatización y actualización de datos:\n",
    "\n",
    "Conectar el análisis a una base de datos viva o archivo actualizado para que el reporte pueda ejecutarse periódicamente y alertar sobre posibles riesgos de churn."
   ]
  }
 ],
 "metadata": {
  "kernelspec": {
   "display_name": "Python 3",
   "language": "python",
   "name": "python3"
  },
  "language_info": {
   "codemirror_mode": {
    "name": "ipython",
    "version": 3
   },
   "file_extension": ".py",
   "mimetype": "text/x-python",
   "name": "python",
   "nbconvert_exporter": "python",
   "pygments_lexer": "ipython3",
   "version": "3.12.8"
  }
 },
 "nbformat": 4,
 "nbformat_minor": 2
}
